{
 "cells": [
  {
   "cell_type": "markdown",
   "metadata": {},
   "source": [
    "\n",
    "### Variable"
   ]
  },
  {
   "cell_type": "markdown",
   "metadata": {},
   "source": [
    "#### Variables Intro\n"
   ]
  },
  {
   "cell_type": "markdown",
   "metadata": {},
   "source": [
    "##### What is Values\n",
    "- 值有不同的类型 (integers, floats, strings, booleans, lists, dictionaries, tuples, sets)"
   ]
  },
  {
   "cell_type": "code",
   "execution_count": null,
   "metadata": {},
   "outputs": [],
   "source": [
    "\n",
    "# Example of integer value\n",
    "x = 5\n",
    "\n",
    "# Example of float value\n",
    "y = 3.14\n",
    "\n",
    "# Example of string value\n",
    "z = \"Hello, World!\"\n",
    "\n",
    "# Example of boolean value\n",
    "a = True\n",
    "\n",
    "x,y,z,a\n"
   ]
  },
  {
   "cell_type": "markdown",
   "metadata": {},
   "source": [
    "##### What is Expressions?\n",
    "- Expressions are the combination of values, variables, and operators"
   ]
  },
  {
   "cell_type": "code",
   "execution_count": null,
   "metadata": {},
   "outputs": [],
   "source": [
    "# example of expression with operators\n",
    "1 + 1, 2 * 100, 5 ** 2, 5 // 2,'Python' + ' is fun'"
   ]
  },
  {
   "cell_type": "code",
   "execution_count": null,
   "metadata": {},
   "outputs": [],
   "source": [
    "# example of expression with function calls\n",
    "pow(2, 30), max(50, 300), min(-1, -300), abs(-100)"
   ]
  },
  {
   "cell_type": "code",
   "execution_count": null,
   "metadata": {},
   "outputs": [],
   "source": [
    "# The same result, different ways\n",
    "print(pow(2,30), 2 ** 30)\n",
    "\n",
    "from operator import add\n",
    "print(63 + 79, add(63,79))"
   ]
  },
  {
   "cell_type": "code",
   "execution_count": null,
   "metadata": {},
   "outputs": [],
   "source": [
    "# FYI，there is an exercise provided by the UCB CS61A\n",
    "from operator import add, sub, mul, truediv, floordiv, mod\n",
    "\n",
    "\"\"\"\n",
    "In the console, type expressions that use function calls\n",
    "and correspond to each arithmetic expression.\n",
    "Use the console to check your work.\n",
    "\n",
    "Useful documentation:\n",
    "https://docs.python.org/3/library/operator.html#mapping-operators-to-functions\n",
    "\"\"\"\n",
    "\n",
    "# Q1: 30 + 2\n",
    "\n",
    "# Q2: 30 - 2\n",
    "\n",
    "# Q3: 30 * 2\n",
    "\n",
    "# Q4: 30 / 2\n",
    "\n",
    "# Q5: 30 % 2\n",
    "\n",
    "# Nested!\n",
    "\n",
    "# Q6: 30 + (2 * 4)\n",
    "\n",
    "# Q7: 3 * (10 - 2)\n",
    "\n",
    "# Challenge!\n",
    "\n",
    "# Q8: (3 ** (365/52)) - 1\n",
    "\n",
    "# Q9: (25 // 4) - (25 / 4)\n",
    "\n"
   ]
  },
  {
   "cell_type": "markdown",
   "metadata": {},
   "source": [
    "##### 名称的使用"
   ]
  },
  {
   "cell_type": "code",
   "execution_count": null,
   "metadata": {},
   "outputs": [],
   "source": [
    "x = 10\n",
    "y = 3\n",
    "# a variable can be referenced by its name many times\n",
    "result1 = x * y\n",
    "result2 = x + y\n",
    "result1, result2"
   ]
  },
  {
   "cell_type": "markdown",
   "metadata": {},
   "source": [
    "##### Name Rebinding"
   ]
  },
  {
   "cell_type": "code",
   "execution_count": null,
   "metadata": {},
   "outputs": [],
   "source": [
    "# A name can be only be bound to a single value\n",
    "my_name = 'Rob'\n",
    "my_name = my_name + 'ert'\n",
    "my_name"
   ]
  },
  {
   "cell_type": "code",
   "execution_count": null,
   "metadata": {},
   "outputs": [],
   "source": [
    "# This is an example of bad name binding, do not run it\n",
    "# x = 10\n",
    "# y = 3\n",
    "# max = max(10,3)\n",
    "# result1 = x * y\n",
    "# result2 = x + y\n",
    "# print(max,result1,result2)\n",
    "# max(2,3)"
   ]
  },
  {
   "cell_type": "code",
   "execution_count": null,
   "metadata": {},
   "outputs": [],
   "source": [
    "# Exercise\n",
    "f = min\n",
    "f = max\n",
    "g = min\n",
    "h = max\n",
    "max = g \n",
    "max(f(2, g(h(1,5),3)), 4)\n",
    "# after run it please restart the kernel, otherwise your max() will be wrong!"
   ]
  },
  {
   "cell_type": "markdown",
   "metadata": {},
   "source": [
    "##### Others"
   ]
  },
  {
   "cell_type": "code",
   "execution_count": null,
   "metadata": {},
   "outputs": [],
   "source": [
    "#支持中文命名\n",
    "年龄 = 17\n",
    "print(年龄)\n",
    "#支持给多个变量赋值\n",
    "a,b,c = 1,2,3\n",
    "print(a,b,c)\n",
    "# 可以使用'_'忽略不需要的值\n",
    "x,_,_=4,5,6\n",
    "print(x)"
   ]
  },
  {
   "cell_type": "markdown",
   "metadata": {},
   "source": [
    "#### Numbers\n"
   ]
  },
  {
   "cell_type": "markdown",
   "metadata": {},
   "source": [
    "- int: 不带小数点\n",
    "- float: 带小数点\n"
   ]
  },
  {
   "cell_type": "markdown",
   "metadata": {},
   "source": [
    "##### 数的表示"
   ]
  },
  {
   "cell_type": "code",
   "execution_count": null,
   "metadata": {},
   "outputs": [],
   "source": [
    "# You can add '_' to make numbers more readable\n",
    "# 1_000_000 is the same as 1000000\n",
    "print(1_000_000)\n",
    "print(1_000_000.5)\n",
    "# You can use scientific notation to represent large numbers\n",
    "# 1e6 is the same as 1 * 10 ** 6\n",
    "print(1e6)\n",
    "# You can use scientific notation to represent small numbers\n",
    "# 1e-6 is the same as 1 / 10 ** 6\n",
    "print(1e-6)\n",
    "# You can use scientific notation to represent numbers with decimal points\n",
    "# 1.23e-6 is the same as 1.23 / 10 ** 6\n",
    "print(1.23e-6)\n",
    "# // is the floor division operator\n",
    "print(5//2)"
   ]
  },
  {
   "cell_type": "markdown",
   "metadata": {},
   "source": [
    "#### String"
   ]
  },
  {
   "cell_type": "markdown",
   "metadata": {},
   "source": [
    "\n",
    "##### 字符串的表示\n",
    "- 在 Python 中，用**英文引号**引起的都是字符串\n"
   ]
  },
  {
   "cell_type": "code",
   "execution_count": null,
   "metadata": {},
   "outputs": [],
   "source": [
    "# 引号可以是双引号，也可以是单引号\n",
    "str1 = 'Hello, World!'\n",
    "str2 = \"Hello, World!\"\n",
    "# 还有一种特殊的写法，使用三个单引号或三个双引号\n",
    "str3 ='''I am a string'''\n",
    "str4 =\"\"\"I am a string\"\"\"\n",
    "# 三个引号可以创建跨行字符串\n",
    "str5 = \"\"\"Hello Python world!\n",
    "Hello iTuring!\"\"\"\n",
    "\n",
    "# notebook中会自动对输入的最后一行调用 print() 函数， 但有点细微的差别\n",
    "print(str5)\n",
    "str5"
   ]
  },
  {
   "cell_type": "markdown",
   "metadata": {},
   "source": [
    "##### 字符串的大小写操作\n",
    "- upper()：将字符串全部改为大写\n",
    "- lower()：将字符串全部改为小写\n",
    "- title()：每个单词的首字母大写\n"
   ]
  },
  {
   "cell_type": "code",
   "execution_count": null,
   "metadata": {},
   "outputs": [],
   "source": [
    "# Give a interesting example\n",
    "str1 = 'hello ada lovelace!'\n",
    "print(str1.upper())\n",
    "print(str1.title())\n",
    "str2 = 'HELLO ADA LOVELACE!'\n",
    "print(str2.lower())"
   ]
  },
  {
   "cell_type": "markdown",
   "metadata": {},
   "source": [
    "##### 字符串的空格操作\n",
    "- lstrip()：移除左端的空白\n",
    "- rstrip()：移除右端的空白\n",
    "- strip() ：移除两端的空白\n",
    "- \\t：制表符\n",
    "- \\n：换行符"
   ]
  },
  {
   "cell_type": "code",
   "execution_count": null,
   "metadata": {},
   "outputs": [],
   "source": [
    "# 多余的空格，尤其是右边的空格，会影响输出的准确性还看不出来，在openjudge上会报错\n",
    "name1 = \" iTuring\"\n",
    "name2 = \"iTuring \"\n",
    "name3 = \" iTuring \"\n",
    "# print的sep参数可以指定两个输出（name1与name2）之间用什么分开，默认是空格\n",
    "print(name1, name2, name3,sep='\\n')\n",
    "print(name1.lstrip(), name2.rstrip(), name3.strip(),sep='\\n')\n"
   ]
  },
  {
   "cell_type": "markdown",
   "metadata": {},
   "source": [
    "##### fstring与其他\n"
   ]
  },
  {
   "cell_type": "code",
   "execution_count": null,
   "metadata": {},
   "outputs": [],
   "source": [
    "# fstring可以在字符串中插入变量，表达式等等\n",
    "name = 'iTuring'\n",
    "print(f'Hello, {name}!')\n",
    "age = 19\n",
    "print(f'小明的年龄是{age}岁')\n",
    "\n",
    "# removeprefix可以移除前缀\n",
    "# 与之前的method不同的是，需要额外的参数来指定移除什么东西\n",
    "url = 'https://www.baidu.com'\n",
    "url = url.removeprefix('https://')\n",
    "print(url)\n"
   ]
  },
  {
   "cell_type": "code",
   "execution_count": null,
   "metadata": {},
   "outputs": [],
   "source": [
    "# 错误示例：单双引号不当\n",
    "message = 'Life's pathetic, let's pythonic.'\n",
    "print(message)\n"
   ]
  },
  {
   "cell_type": "code",
   "execution_count": null,
   "metadata": {},
   "outputs": [],
   "source": [
    "message = \"Life's pathetic, let's pythonic.\"\n",
    "print(message)"
   ]
  },
  {
   "cell_type": "markdown",
   "metadata": {},
   "source": [
    "#### List\n"
   ]
  },
  {
   "cell_type": "markdown",
   "metadata": {},
   "source": [
    "##### 访问列表元素\n"
   ]
  },
  {
   "cell_type": "code",
   "execution_count": null,
   "metadata": {},
   "outputs": [],
   "source": [
    "bikes = ['trek', 'redline', 'giant']\n",
    "# indexing starts from 0\n",
    "print(bikes[0])\n",
    "# indexing can be negative\n",
    "print(bikes[-1])\n",
    "# use f-string\n",
    "output = f'My first bike was a {bikes[0].title()}'\n",
    "print(output)"
   ]
  },
  {
   "cell_type": "markdown",
   "metadata": {},
   "source": [
    "##### 列表增删查改"
   ]
  },
  {
   "cell_type": "code",
   "execution_count": null,
   "metadata": {},
   "outputs": [],
   "source": [
    "#修改列表元素\n",
    "motorcycles = ['honda', 'yamaha', 'suzuki']\n",
    "print(motorcycles)\n",
    "# 指定索引和要修改的内容\n",
    "motorcycles[0] = 'ducati'\n",
    "print(motorcycles)"
   ]
  },
  {
   "cell_type": "code",
   "execution_count": null,
   "metadata": {},
   "outputs": [],
   "source": [
    "# 添加元素\n",
    "bikes = []\n",
    "bikes.append('redline')#列表末尾插入\n",
    "bikes.insert(0,'trek')#指定插入位置\n",
    "print(bikes)"
   ]
  },
  {
   "cell_type": "code",
   "execution_count": null,
   "metadata": {},
   "outputs": [],
   "source": [
    "# 删除元素: pop, del\n",
    "bikes = ['trek', 'redline', 'giant','ducati']\n",
    "popped_bike = bikes.pop(0)#删除指定位置元素\n",
    "print(popped_bike)\n",
    "print(bikes)\n",
    "print(bikes.pop())#删除列表最后一个元素\n",
    "print(bikes)\n",
    "del bikes[1]#删除指定位置元素\n",
    "print(bikes)\n"
   ]
  },
  {
   "cell_type": "code",
   "execution_count": null,
   "metadata": {},
   "outputs": [],
   "source": [
    "# remove() removes the first occurrence of a value\n",
    "motorcycles = ['honda', 'yamaha', 'suzuki','ducati']\n",
    "too_expensive = 'ducati'\n",
    "motorcycles.remove(too_expensive)\n",
    "print(motorcycles)\n",
    "print(f'\\nA {too_expensive.title()} is too expensive for me.')"
   ]
  },
  {
   "cell_type": "markdown",
   "metadata": {},
   "source": [
    "##### 列表排序，反转和长度"
   ]
  },
  {
   "cell_type": "code",
   "execution_count": null,
   "metadata": {},
   "outputs": [],
   "source": [
    "# 列表排序：sort(),sorted()\n",
    "nums = [9, 6, 1, 4, 2]\n",
    "print(sorted(nums))\n",
    "print(nums)  # 原列表不变\n",
    "\n",
    "# 列表排序（默认正序）,修改列表本身\n",
    "nums.sort()\n",
    "print(nums)\n",
    "# 列表排序（指定倒序）\n",
    "nums.sort(reverse=True)\n",
    "print(nums)\n"
   ]
  },
  {
   "cell_type": "code",
   "execution_count": null,
   "metadata": {},
   "outputs": [],
   "source": [
    "#列表反转\n",
    "nums = [9, 6, 1, 4, 2]\n",
    "nums.reverse() # 翻转列表\n",
    "print(nums)\n",
    "print(nums.reverse(),nums,sep='\\n')"
   ]
  },
  {
   "cell_type": "code",
   "execution_count": null,
   "metadata": {},
   "outputs": [],
   "source": [
    "#列表长度\n",
    "cars = ['audi', 'bmw', 'subaru', 'toyota']\n",
    "nums = [i for i in range(43)]\n",
    "print(len(cars))\n",
    "print(len(nums))"
   ]
  },
  {
   "cell_type": "code",
   "execution_count": null,
   "metadata": {},
   "outputs": [],
   "source": [
    "# 索引错误演示\n",
    "# nums = [9, 6, 1, 4, 2]\n",
    "# print(nums[5])"
   ]
  },
  {
   "cell_type": "markdown",
   "metadata": {},
   "source": [
    "### Function"
   ]
  },
  {
   "cell_type": "markdown",
   "metadata": {},
   "source": [
    "##### function intro"
   ]
  },
  {
   "cell_type": "code",
   "execution_count": null,
   "metadata": {},
   "outputs": [],
   "source": [
    "def happify(msg):\n",
    "    return \"☺ \" + msg + \" ☺\"\n",
    "    \n",
    "def frownify(msg):\n",
    "    return \"☹ \" + msg + \" ☹\"\n",
    "    \n",
    "def lightning(msg1, msg2):\n",
    "    return \"⚡\" + msg1 + \"⚡\" + msg2 + \"⚡\"\n",
    "    \n",
    "print(happify(\"Bye, Friday!\"))\n",
    "print(frownify(\"Hi, Monday!\"))\n",
    "print(lightning(\"Hello, World!\", \"Hello, Python!\"))"
   ]
  },
  {
   "cell_type": "markdown",
   "metadata": {},
   "source": [
    "##### Name Lookup Rules"
   ]
  },
  {
   "cell_type": "code",
   "execution_count": null,
   "metadata": {},
   "outputs": [],
   "source": [
    "num1 = 2\n",
    "num2 = 1\n",
    "def my_div(num1,num2):\n",
    "    return num1/num2\n",
    "divs = my_div(num2,num1)\n",
    "print(divs)"
   ]
  },
  {
   "cell_type": "markdown",
   "metadata": {},
   "source": [
    "##### Exercises provided by the course UCB cs61a"
   ]
  },
  {
   "cell_type": "code",
   "execution_count": null,
   "metadata": {},
   "outputs": [],
   "source": [
    "# Dog Age\n",
    "\"\"\"\n",
    "You know how old a dog is in human years, but what about dog years? Calculate it!\n",
    "\n",
    "Write a function named calculate_dog_age that:\n",
    "* takes 1 argument: a dog's age in human years.\n",
    "* calculates the dog's age based on the conversion rate of 1 human year to 7 dog years.\n",
    "* returns the age in dog years.\n",
    "\"\"\"\n",
    "def calculate_dog_age(years):\n",
    "    \"\"\"\n",
    "    >>> calculate_dog_age(1)\n",
    "    7\n",
    "    >>> calculate_dog_age(0.5)\n",
    "    3.5\n",
    "    >>> calculate_dog_age(12)\n",
    "    84\n",
    "    \"\"\"\n",
    "    # TODO\n",
    "    # YOUR CODE HERE"
   ]
  },
  {
   "cell_type": "code",
   "execution_count": null,
   "metadata": {},
   "outputs": [],
   "source": [
    "# lifetime supply\n",
    "\"\"\"\n",
    "Ever wonder how much a \"lifetime supply\" of your favorite snack is? Wonder no more!\n",
    "\n",
    "Write a function named calculate_supply that:\n",
    "* takes 2 arguments: age, amount per day.\n",
    "* calculates the amount consumed for rest of the life (based on a constant max age of 81).\n",
    "* returns the result\n",
    "\"\"\"\n",
    "\n",
    "# This def statement may be incomplete...\n",
    "def calculate_supply():\n",
    "    \"\"\"\n",
    "    >>> calculate_supply(80, 1)\n",
    "    365\n",
    "    >>> calculate_supply(80, 2)\n",
    "    730\n",
    "    >>> calculate_supply(36, 3)\n",
    "    49275\n",
    "    # Bonus: Accept floating point values for amount per day, and round the result up to an integer.\n",
    "    >>> calculate_supply(37, 2.17)\n",
    "    34850\n",
    "    \"\"\"\n",
    "    # TODO\n",
    "    # YOUR CODE HERE"
   ]
  },
  {
   "cell_type": "code",
   "execution_count": null,
   "metadata": {},
   "outputs": [],
   "source": [
    "# Tempreature Conversion\n",
    "\"\"\"\n",
    "How can we communicate the highs and lows of climate change with people who use a different temperature unit? \n",
    "Let's make a temperature converter based on the steps here: \n",
    "https://www.mathsisfun.com/temperature-conversion.html\n",
    "\n",
    "Create a function called celsius_to_fahrenheit that:\n",
    "* takes a single argument, the temperature in celsius\n",
    "* calculates and returns the fahrenheit equivalent\n",
    "\n",
    "Similarly, create another function called fahrenheiht_to_celsius that:\n",
    "* takes a single argument, the temperature in fahrenheit\n",
    "* calculates and returns the celsius equivalent\n",
    "\"\"\"\n",
    "\n",
    "# This def statement may be incomplete...\n",
    "def celsius_to_fahrenheit():\n",
    "    \"\"\"\n",
    "    >>> celsius_to_fahrenheit(0)\n",
    "    32\n",
    "    >>> celsius_to_fahrenheit(100)\n",
    "    212\n",
    "    \"\"\"\n",
    "    # TODO\n",
    "    # YOUR CODE HERE\n",
    "    \n",
    "# This def statement may be incomplete...\n",
    "def fahrenheit_to_celsius():\n",
    "    \"\"\"\n",
    "    >>> fahrenheit_to_celsius(32)\n",
    "    0\n",
    "    >>> fahrenheit_to_celsius(212)\n",
    "    100\n",
    "    \"\"\"\n",
    "    # TODO\n",
    "    # YOUR CODE HERE"
   ]
  },
  {
   "cell_type": "markdown",
   "metadata": {},
   "source": [
    "### Control"
   ]
  },
  {
   "cell_type": "markdown",
   "metadata": {},
   "source": [
    "##### boolean expressions"
   ]
  },
  {
   "cell_type": "code",
   "execution_count": null,
   "metadata": {},
   "outputs": [],
   "source": [
    "# examples of comparison operators\n",
    "print(1 == 1)  # True\n",
    "print(1 != 2)  # True\n",
    "print(1 >= 2)  # False\n",
    "# examples of logical operators, print their bools\n",
    "print(True and False)  # True\n",
    "print(True or False)  # True\n",
    "print(not True)  # False\n",
    "# examples of membership operators\n",
    "print(1 in [1, 2, 3])  # True\n",
    "print(1 not in [1, 2, 3])  # False"
   ]
  },
  {
   "cell_type": "markdown",
   "metadata": {},
   "source": [
    "##### if statements\n",
    "观察下面两者的不同"
   ]
  },
  {
   "cell_type": "code",
   "execution_count": null,
   "metadata": {},
   "outputs": [],
   "source": [
    "requested_toppings = ['mushrooms', 'extra cheese']\n",
    "if 'mushrooms' in requested_toppings:\n",
    "    print(\"Adding mushrooms.\")\n",
    "if 'pepperoni' in requested_toppings:\n",
    "    print(\"Adding pepperoni.\")\n",
    "if 'extra cheese' in requested_toppings:\n",
    "    print(\"Adding extra cheese.\")\n",
    "\n",
    "print(\"\\nFinished making your pizza!\")\n"
   ]
  },
  {
   "cell_type": "code",
   "execution_count": null,
   "metadata": {},
   "outputs": [],
   "source": [
    "requested_toppings = ['mushrooms', 'extra cheese'] \n",
    "if 'mushrooms' in requested_toppings:\n",
    "    print(\"Adding mushrooms.\")\n",
    "elif 'pepperoni' in requested_toppings:\n",
    "    print(\"Adding pepperoni.\")\n",
    "elif 'extra cheese' in requested_toppings:\n",
    "    print(\"Adding extra cheese.\") \n",
    "    \n",
    "print(\"\\nFinished making your pizza!\")\n"
   ]
  },
  {
   "cell_type": "markdown",
   "metadata": {},
   "source": [
    "练习"
   ]
  },
  {
   "cell_type": "code",
   "execution_count": null,
   "metadata": {},
   "outputs": [],
   "source": [
    "\"\"\"This function should return true if the seafood type is \"mollusk\" OR\n",
    "it's been frozen for at least 7 days.\n",
    "\"\"\"\n",
    "def is_safe_to_eat(seafood_type, days_frozen):\n",
    "    \"\"\"\n",
    "    >>> is_safe_to_eat(\"tuna\", 3)\n",
    "    False\n",
    "    >>> is_safe_to_eat(\"salmon\", 6)\n",
    "    False\n",
    "    >>> is_safe_to_eat(\"salmon\", 7)\n",
    "    True\n",
    "    >>> is_safe_to_eat(\"mollusk\", 1)\n",
    "    True\n",
    "    >>> is_safe_to_eat(\"mollusk\", 9)\n",
    "    True\n",
    "    \"\"\"\n",
    "    return 0\n"
   ]
  },
  {
   "cell_type": "code",
   "execution_count": null,
   "metadata": {},
   "outputs": [],
   "source": [
    "\"\"\"\n",
    "Write a function named assign_grade that:\n",
    "* takes 1 argument, an integer representing the score.\n",
    "* returns a grade for the score, either \"A\" (90-100), \"B\" (80-89), \"C\" (70-79), \"D\" (65-69), or \"F\" (0-64).\n",
    "\n",
    "Call that function for a few different scores and log the result to make sure it works.\n",
    "\"\"\"\n",
    "def assign_grade(score):\n",
    "    \"\"\"\n",
    "    >>> assign_grade(95)\n",
    "    'A'\n",
    "    >>> assign_grade(90)\n",
    "    'A'\n",
    "    >>> assign_grade(85)\n",
    "    'B'\n",
    "    >>> assign_grade(80)\n",
    "    'B'\n",
    "    >>> assign_grade(77)\n",
    "    'C'\n",
    "    >>> assign_grade(70)\n",
    "    'C'\n",
    "    >>> assign_grade(68)\n",
    "    'D'\n",
    "    >>> assign_grade(65)\n",
    "    'D'\n",
    "    >>> assign_grade(64)\n",
    "    'F'\n",
    "    >>> assign_grade(0)\n",
    "    'F'\n",
    "    \"\"\"\n",
    "    return ''\n"
   ]
  },
  {
   "cell_type": "markdown",
   "metadata": {},
   "source": [
    "##### while statements"
   ]
  },
  {
   "cell_type": "code",
   "execution_count": null,
   "metadata": {},
   "outputs": [],
   "source": [
    "# 使用while counter\n",
    "def\tsum_up_squares(start,end):\n",
    "    counter = start\n",
    "    total = 0\n",
    "    while counter <= end:\n",
    "        total += counter**2\n",
    "        counter += 1\n",
    "    return total\n",
    "\n",
    "sum_up_squares(1, 6)"
   ]
  },
  {
   "cell_type": "code",
   "execution_count": null,
   "metadata": {},
   "outputs": [],
   "source": [
    "# break statement示例\n",
    "counter = 100\n",
    "while counter < 200:\n",
    "    if counter % 7 == 0:\n",
    "        print(counter)\n",
    "        break\n",
    "    counter += 1"
   ]
  },
  {
   "cell_type": "code",
   "execution_count": null,
   "metadata": {},
   "outputs": [],
   "source": [
    "# exercise: \n",
    "def is_prime(n):\n",
    "    \"\"\"Return True iff N is prime.\n",
    "    >>> is_prime(1)\n",
    "    False\n",
    "    >>> is_prime(2)\n",
    "    True\n",
    "    >>> is_prime(8)\n",
    "    False\n",
    "    >>> is_prime(21)\n",
    "    False\n",
    "    >>> is_prime(23)\n",
    "    True\n",
    "    \"\"\"\n",
    "    return n > 1 and smallest_factor(n) == n\n",
    "\n",
    "def smallest_factor(n):\n",
    "    \"\"\"Returns the smallest value k>1 that evenly divides N.\"\"\"\n",
    "    pass\n",
    "\n",
    "def print_factors(n):\n",
    "    \"\"\"Print the prime factors of N.\n",
    "    >>> print_factors(180)\n",
    "    2\n",
    "    2\n",
    "    3\n",
    "    3\n",
    "    5\n",
    "    \"\"\"\n",
    "    pass"
   ]
  }
 ],
 "metadata": {
  "kernelspec": {
   "display_name": "medsam",
   "language": "python",
   "name": "python3"
  },
  "language_info": {
   "codemirror_mode": {
    "name": "ipython",
    "version": 3
   },
   "file_extension": ".py",
   "mimetype": "text/x-python",
   "name": "python",
   "nbconvert_exporter": "python",
   "pygments_lexer": "ipython3",
   "version": "3.9.12"
  }
 },
 "nbformat": 4,
 "nbformat_minor": 2
}
