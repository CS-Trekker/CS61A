{
 "cells": [
  {
   "cell_type": "code",
   "execution_count": 1,
   "id": "4852cdd5",
   "metadata": {},
   "outputs": [],
   "source": [
    "def exp(b, n):\n",
    "    if n == 0:\n",
    "        return 1\n",
    "    else:\n",
    "        return b * exp(b, n - 1)"
   ]
  },
  {
   "cell_type": "code",
   "execution_count": 2,
   "id": "272c5146",
   "metadata": {},
   "outputs": [
    {
     "name": "stdout",
     "output_type": "stream",
     "text": [
      "CPU times: total: 0 ns\n",
      "Wall time: 194 μs\n"
     ]
    },
    {
     "data": {
      "text/plain": [
       "10715086071862673209484250490600018105614048117055336074437503883703510511249361224931983788156958581275946729175531468251871452856923140435984577574698574803934567774824230985421074605062371141877954182153046474983581941267398767559165543946077062914571196477686542167660429831652624386837205668069376"
      ]
     },
     "execution_count": 2,
     "metadata": {},
     "output_type": "execute_result"
    }
   ],
   "source": [
    "%%time\n",
    "exp(2, 1000)"
   ]
  },
  {
   "cell_type": "code",
   "execution_count": 3,
   "id": "47422089",
   "metadata": {},
   "outputs": [],
   "source": [
    "def fast_exp(b, n):\n",
    "    if n == 0:\n",
    "        return 1\n",
    "    half = fast_exp(b, n // 2)\n",
    "    if n % 2 == 0:\n",
    "        return half * half\n",
    "    else:\n",
    "        return b * half * half"
   ]
  },
  {
   "cell_type": "code",
   "execution_count": 4,
   "id": "e2308c66",
   "metadata": {},
   "outputs": [
    {
     "name": "stdout",
     "output_type": "stream",
     "text": [
      "CPU times: total: 0 ns\n",
      "Wall time: 7.63 μs\n"
     ]
    },
    {
     "data": {
      "text/plain": [
       "10715086071862673209484250490600018105614048117055336074437503883703510511249361224931983788156958581275946729175531468251871452856923140435984577574698574803934567774824230985421074605062371141877954182153046474983581941267398767559165543946077062914571196477686542167660429831652624386837205668069376"
      ]
     },
     "execution_count": 4,
     "metadata": {},
     "output_type": "execute_result"
    }
   ],
   "source": [
    "%%time\n",
    "fast_exp(2, 1000)"
   ]
  }
 ],
 "metadata": {
  "kernelspec": {
   "display_name": "Python 3",
   "language": "python",
   "name": "python3"
  },
  "language_info": {
   "codemirror_mode": {
    "name": "ipython",
    "version": 3
   },
   "file_extension": ".py",
   "mimetype": "text/x-python",
   "name": "python",
   "nbconvert_exporter": "python",
   "pygments_lexer": "ipython3",
   "version": "3.13.3"
  }
 },
 "nbformat": 4,
 "nbformat_minor": 5
}
