{
 "cells": [
  {
   "cell_type": "markdown",
   "metadata": {},
   "source": [
    "为什么要写函数出来，直接写代码不好吗？\n",
    "是因为某些时候可能要重复执行某个功能，写成函数就可以直接使用函数。"
   ]
  },
  {
   "cell_type": "code",
   "execution_count": 1,
   "metadata": {},
   "outputs": [
    {
     "name": "stdout",
     "output_type": "stream",
     "text": [
      "6.0\n",
      "24.0\n",
      "3.897114317029974\n"
     ]
    }
   ],
   "source": [
    "# 举个例子，比如我现在输入三个三角形的三边长，希望使用海伦公式来计算输入三角形的面积\n",
    "# 不使用函数的时候，需要一个一个计算\n",
    "\n",
    "# 计算第一个三角形的面积\n",
    "a1, b1, c1 = 3, 4, 5\n",
    "s1 = (a1 + b1 + c1) / 2\n",
    "area1 = (s1 * (s1 - a1) * (s1 - b1) * (s1 - c1)) ** 0.5\n",
    "print(area1)\n",
    "\n",
    "# 计算第二个三角形的面积\n",
    "a2, b2, c2 = 6, 8, 10\n",
    "s2 = (a2 + b2 + c2) / 2\n",
    "area2 = (s2 * (s2 - a2) * (s2 - b2) * (s2 - c2)) ** 0.5\n",
    "print(area2)\n",
    "\n",
    "# 计算第三个三角形的面积\n",
    "a3, b3, c3 = 3, 3, 3\n",
    "s3 = (a3 + b3 + c3) / 2\n",
    "area3 = (s3 * (s3 - a3) * (s3 - b3) * (s3 - c3)) ** 0.5\n",
    "print(area3)"
   ]
  },
  {
   "cell_type": "code",
   "execution_count": 7,
   "metadata": {},
   "outputs": [
    {
     "name": "stdout",
     "output_type": "stream",
     "text": [
      "6.0\n",
      "24.0\n",
      "3.897114317029974\n"
     ]
    }
   ],
   "source": [
    "# 写成函数的话，就能够更简便，并且让程序看上去更清晰，易于理解\n",
    "def triangle_area(a, b, c):\n",
    "    s = (a + b + c) / 2\n",
    "    area = (s * (s - a) * (s - b) * (s - c)) ** 0.5\n",
    "    return area\n",
    "\n",
    "a1, b1, c1 = 3, 4, 5\n",
    "print(triangle_area(a1, b1, c1))\n",
    "\n",
    "a2, b2, c2 = 6, 8, 10\n",
    "print(triangle_area(a2, b2, c2))\n",
    "\n",
    "a3, b3, c3 = 3, 3, 3\n",
    "print(triangle_area(a3, b3, c3))"
   ]
  },
  {
   "cell_type": "markdown",
   "metadata": {},
   "source": [
    "Python内置函数：\n",
    "1. 用于类型转换的函数，如int()、float()、str()、bool()、list()、tuple()、dict()、set()等；\n",
    "2. 用于数值计算的函数，如abs()、round()、pow()、max()、min()、sum()、len()等；\n",
    "3. 用于字符串处理的函数，如lower()、upper()、capitalize()、title()、strip()、lstrip()、rstrip()、replace()、split()、join()等；\n",
    "4. 用于列表处理的函数，如append()、extend()、insert()、remove()、pop()、index()、count()、sort()、reverse()等；\n"
   ]
  },
  {
   "cell_type": "code",
   "execution_count": 2,
   "metadata": {},
   "outputs": [
    {
     "name": "stdout",
     "output_type": "stream",
     "text": [
      "123 <class 'str'>\n",
      "123 <class 'int'>\n"
     ]
    }
   ],
   "source": [
    "# 类型转换\n",
    "x = '123'\n",
    "print(x, type(x))\n",
    "x = int(x) \n",
    "print(x, type(x))\n",
    "# 这个时候x就会从一个字符串'123'变成整型123"
   ]
  },
  {
   "cell_type": "code",
   "execution_count": 3,
   "metadata": {},
   "outputs": [
    {
     "name": "stdout",
     "output_type": "stream",
     "text": [
      "5.6 1 12.0 4\n"
     ]
    }
   ],
   "source": [
    "# 数值计算\n",
    "x = [1, 2, 3.4, 5.6]\n",
    "print(max(x), min(x), sum(x), len(x))\n",
    "# 这种sum()，len()等函数可以对很多种类型的数据使用，能帮助我们解决很多问题"
   ]
  },
  {
   "cell_type": "code",
   "execution_count": 4,
   "metadata": {},
   "outputs": [
    {
     "name": "stdout",
     "output_type": "stream",
     "text": [
      "hello world HELLO WORLD Hello world Hello World\n",
      "hello world hello world hello world\n",
      "hello python\n",
      "['hello', 'world']\n"
     ]
    }
   ],
   "source": [
    "# 字符串处理\n",
    "x = 'hello world'\n",
    "print(x.lower(), x.upper(), x.capitalize(), x.title())\n",
    "print(x.strip(), x.lstrip(), x.rstrip())\n",
    "print(x.replace('world', 'python'))\n",
    "print(x.split())"
   ]
  },
  {
   "cell_type": "code",
   "execution_count": 5,
   "metadata": {},
   "outputs": [
    {
     "name": "stdout",
     "output_type": "stream",
     "text": [
      "[1, 2, 3, 4, 5, 6]\n"
     ]
    }
   ],
   "source": [
    "# 列表处理\n",
    "x = [1, 2, 3, 4, 5]\n",
    "x.append(6)\n",
    "print(x)"
   ]
  },
  {
   "cell_type": "markdown",
   "metadata": {},
   "source": [
    "函数可以有参数也可以没有参数"
   ]
  },
  {
   "cell_type": "code",
   "execution_count": null,
   "metadata": {},
   "outputs": [],
   "source": [
    "# 有参数\n",
    "import math\n",
    "\n",
    "# 计算圆面积的函数，接受半径作为参数\n",
    "def calculate_circle_area(radius):\n",
    "    return math.pi * radius ** 2\n",
    "\n",
    "# 调用函数并传入参数\n",
    "area1 = calculate_circle_area(5)\n",
    "print(\"半径为5的圆的面积:\", area1)\n",
    "\n",
    "area2 = calculate_circle_area(10)\n",
    "print(\"半径为10的圆的面积:\", area2)"
   ]
  },
  {
   "cell_type": "code",
   "execution_count": null,
   "metadata": {},
   "outputs": [],
   "source": [
    "# 没有参数\n",
    "import random\n",
    "\n",
    "# 生成随机数并输出\n",
    "def print_random_number():\n",
    "    number = random.randint(1, 100)\n",
    "    print(\"随机生成的数字是:\", number)\n",
    "\n",
    "# 调用函数\n",
    "print_random_number()"
   ]
  },
  {
   "cell_type": "code",
   "execution_count": null,
   "metadata": {},
   "outputs": [],
   "source": [
    "# 没有参数\n",
    "\n",
    "# 打印欢迎消息的函数，无需参数\n",
    "def print_welcome_message():\n",
    "    print(\"欢迎使用我们的系统！\")\n",
    "\n",
    "# 调用函数\n",
    "print_welcome_message()\n"
   ]
  },
  {
   "cell_type": "markdown",
   "metadata": {},
   "source": [
    "混用按关键字传参和按位置传参，则按关键字传参必须位于按位置传参之后"
   ]
  },
  {
   "cell_type": "code",
   "execution_count": null,
   "metadata": {},
   "outputs": [
    {
     "name": "stdout",
     "output_type": "stream",
     "text": [
      "1 2 3 4\n",
      "1 3 4 5\n"
     ]
    }
   ],
   "source": [
    "def func(x1, x2, x3, x4):\n",
    "    print(x1, x2, x3, x4)\n",
    "\n",
    "\n",
    "func(1, 2, 3, 4)\n",
    "func(1, x2=3, x3=4, x4=5)\n",
    "func(1, x2=1, 2, x4=4) # 这一行代码就会错"
   ]
  },
  {
   "cell_type": "markdown",
   "metadata": {},
   "source": [
    "无默认值的参数，必须放于有默认值参数前面\n"
   ]
  },
  {
   "cell_type": "code",
   "execution_count": null,
   "metadata": {},
   "outputs": [],
   "source": [
    "print(1, 2, sep=',', end='')\n",
    "print(1, sep=',', 2, end='') # 这行代码会错"
   ]
  },
  {
   "cell_type": "markdown",
   "metadata": {},
   "source": [
    "当使用return语句的时候，函数也会随之结束\n"
   ]
  },
  {
   "cell_type": "code",
   "execution_count": 11,
   "metadata": {},
   "outputs": [],
   "source": [
    "def getPositive(x):\n",
    "    if x > 0:\n",
    "        return x\n",
    "    else:\n",
    "        return 0\n",
    "\n",
    "def getPositive(x):\n",
    "    if x > 0:\n",
    "        result = x\n",
    "    else:\n",
    "        result = 0\n",
    "    return result\n",
    "\n",
    "def printPositive(x):\n",
    "    if x > 0:\n",
    "        print(x)\n",
    "    else:\n",
    "        print(0)"
   ]
  },
  {
   "cell_type": "code",
   "execution_count": null,
   "metadata": {},
   "outputs": [
    {
     "name": "stdout",
     "output_type": "stream",
     "text": [
      "5\n",
      "0\n",
      "0\n",
      "None\n",
      "0\n"
     ]
    }
   ],
   "source": [
    "x = getPositive(5)\n",
    "print(x)\n",
    "x = getPositive(-5)\n",
    "print(x)\n",
    "x = printPositive(-5)\n",
    "print(x)\n",
    "x = printPositive(-5)\n",
    "\n"
   ]
  },
  {
   "cell_type": "code",
   "execution_count": null,
   "metadata": {},
   "outputs": [],
   "source": [
    "# 列表练习 正确代码\n",
    "L = [int(x) for x in input().split()]\n",
    "x, y = [int(x) for x in input().split()]\n",
    "\n",
    "L = [L[0], x] + L[1:]\n",
    "print(L)\n",
    "L = L[1:]\n",
    "print(L)\n",
    "L = L[3:]\n",
    "print(L)\n",
    "if 0 in L:\n",
    "    print(\"True\")\n",
    "else:\n",
    "    print(\"False\")\n",
    "L.append(y)\n",
    "print(L)\n",
    "print(len(L))\n",
    "print(max(L))"
   ]
  },
  {
   "cell_type": "code",
   "execution_count": 14,
   "metadata": {},
   "outputs": [
    {
     "name": "stdout",
     "output_type": "stream",
     "text": [
      "[1, 0, 2, 3, 4, 5, 6, 7]\n",
      "[0, 2, 3, 4, 5, 6, 7]\n",
      "[4, 5, 6, 7]\n",
      "False\n",
      "None\n",
      "5\n",
      "7\n"
     ]
    }
   ],
   "source": [
    "# append()函数没有返回值，只是执行向列表末尾添加元素的操作\n",
    "L = [int(x) for x in input().split()]\n",
    "x, y = [int(x) for x in input().split()]\n",
    "\n",
    "L = [L[0], x] + L[1:]\n",
    "print(L)\n",
    "L = L[1:]\n",
    "print(L)\n",
    "L = L[3:]\n",
    "print(L)\n",
    "if 0 in L:\n",
    "    print(\"True\")\n",
    "else:\n",
    "    print(\"False\")\n",
    "print(L.append(y))\n",
    "print(len(L))\n",
    "print(max(L))"
   ]
  },
  {
   "cell_type": "code",
   "execution_count": 24,
   "metadata": {},
   "outputs": [],
   "source": [
    "# sorted\n",
    "students = [('alice', 'A', 98), ('eve', 'B', 98), ('carol', 'C', 90), ('dave', 'A', 95), ('bob', 'B', 98)] "
   ]
  },
  {
   "cell_type": "code",
   "execution_count": null,
   "metadata": {},
   "outputs": [
    {
     "name": "stdout",
     "output_type": "stream",
     "text": [
      "[('alice', 'A', 98), ('bob', 'B', 98), ('carol', 'C', 90), ('dave', 'A', 95), ('eve', 'B', 98)]\n",
      "[('alice', 'A', 98), ('dave', 'A', 95), ('eve', 'B', 98), ('bob', 'B', 98), ('carol', 'C', 90)]\n",
      "[('carol', 'C', 90), ('dave', 'A', 95), ('alice', 'A', 98), ('eve', 'B', 98), ('bob', 'B', 98)]\n",
      "[('alice', 'A', 98), ('eve', 'B', 98), ('bob', 'B', 98), ('dave', 'A', 95), ('carol', 'C', 90)]\n",
      "[('carol', 'C', 90), ('dave', 'A', 95), ('alice', 'A', 98), ('eve', 'B', 98), ('bob', 'B', 98)]\n",
      "[('carol', 'C', 90), ('dave', 'A', 95), ('alice', 'A', 98), ('bob', 'B', 98), ('eve', 'B', 98)]\n"
     ]
    }
   ],
   "source": [
    "# 按照名字顺序排\n",
    "students1 = sorted(students, key=lambda x: x[0])\n",
    "print(students1)\n",
    "# 按照等级排\n",
    "students2 = sorted(students, key=lambda x: x[1])\n",
    "print(students2)\n",
    "# 按照成绩顺序排\n",
    "students3 = sorted(students, key=lambda x: x[2])\n",
    "print(students3)\n",
    "# 按成绩从大到小排\n",
    "students33 = sorted(students, key=lambda x: x[2], reverse=True)\n",
    "print(students33)\n",
    "# 按照成绩从大到小排序，如果成绩相同则按照等级排序\n",
    "# 需要修改\n",
    "students4 = sorted(students, key=lambda x: (x[2], x[1]))\n",
    "print(students4)\n",
    "# 按照成绩从小到大排序，如果成绩相同则按照等级排序，如果等级也相同则按照名字排序\n",
    "# 需要修改\n",
    "students5 = sorted(students, key=lambda x: (x[2], x[1], x[0]))\n",
    "print(students5)"
   ]
  },
  {
   "cell_type": "code",
   "execution_count": 36,
   "metadata": {},
   "outputs": [
    {
     "name": "stdout",
     "output_type": "stream",
     "text": [
      "49\n"
     ]
    }
   ],
   "source": [
    "print(ord('1'))"
   ]
  }
 ],
 "metadata": {
  "kernelspec": {
   "display_name": "Python 3",
   "language": "python",
   "name": "python3"
  },
  "language_info": {
   "codemirror_mode": {
    "name": "ipython",
    "version": 3
   },
   "file_extension": ".py",
   "mimetype": "text/x-python",
   "name": "python",
   "nbconvert_exporter": "python",
   "pygments_lexer": "ipython3",
   "version": "3.12.7"
  }
 },
 "nbformat": 4,
 "nbformat_minor": 2
}
